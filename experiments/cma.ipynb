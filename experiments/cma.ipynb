{
 "cells": [
  {
   "cell_type": "code",
   "execution_count": 59,
   "metadata": {},
   "outputs": [],
   "source": [
    "import cma\n",
    "import numpy as np\n",
    "import math\n",
    "\n",
    "\n",
    "class RandomFunction:\n",
    "    def __init__(self, n):\n",
    "        self.u0 = np.random.uniform(-1, 1, n)\n",
    "        self.v0 = np.random.uniform(-1, 1, n)\n",
    "        \n",
    "        \n",
    "    def at(self, x):\n",
    "        \n",
    "        r1 = np.linalg.norm(x - self.u0)\n",
    "        r2 = np.linalg.norm(x - self.v0)\n",
    "        \n",
    "        return - (math.exp(-r1**2) * 2 + math.exp(-r2**2) * 2.4)\n",
    "        \n",
    "        \n",
    "N = 1024        \n",
    "f = RandomFunction(N)\n",
    "#f.u0, f.v0\n"
   ]
  },
  {
   "cell_type": "code",
   "execution_count": 60,
   "metadata": {},
   "outputs": [
    {
     "name": "stdout",
     "output_type": "stream",
     "text": [
      "(12_w,24)-aCMA-ES (mu_w=7.0,w_1=24%) in dimension 1024 (seed=1006767, Thu Jan  5 09:31:39 2023)\n",
      "Iterat #Fevals   function value  axis ratio  sigma  min&max std  t[m:s]\n",
      "    1     24 -0.000000000000000e+00 1.0e+00 9.93e-01  1e+00  1e+00 0:00.0\n",
      "-0.0\n"
     ]
    }
   ],
   "source": [
    "\n",
    "es = cma.CMAEvolutionStrategy(N * [0], 1)\n",
    "es.optimize(f.at, iterations=1000)\n",
    "\n",
    "\n",
    "val = es.result.xbest\n",
    "print(f.at(val))\n"
   ]
  },
  {
   "cell_type": "code",
   "execution_count": 63,
   "metadata": {},
   "outputs": [
    {
     "name": "stdout",
     "output_type": "stream",
     "text": [
      "-2.987192681663116e-146\n"
     ]
    }
   ],
   "source": [
    "import nevergrad as ng\n",
    "\n",
    "optimizer = ng.optimizers.NGOpt(parametrization=N, budget=4000)\n",
    "recommendation = optimizer.minimize(f.at)  # best value\n",
    "\n",
    "print(f.at(recommendation.value))\n",
    "#print(recommendation.value)"
   ]
  },
  {
   "cell_type": "code",
   "execution_count": 62,
   "metadata": {},
   "outputs": [
    {
     "name": "stdout",
     "output_type": "stream",
     "text": [
      "37.05921292542238\n"
     ]
    }
   ],
   "source": [
    "print(np.linalg.norm(val - f.v0))"
   ]
  },
  {
   "cell_type": "code",
   "execution_count": null,
   "metadata": {},
   "outputs": [],
   "source": []
  },
  {
   "cell_type": "code",
   "execution_count": null,
   "metadata": {},
   "outputs": [],
   "source": []
  }
 ],
 "metadata": {
  "kernelspec": {
   "display_name": "pytorch_latest",
   "language": "python",
   "name": "python3"
  },
  "language_info": {
   "codemirror_mode": {
    "name": "ipython",
    "version": 3
   },
   "file_extension": ".py",
   "mimetype": "text/x-python",
   "name": "python",
   "nbconvert_exporter": "python",
   "pygments_lexer": "ipython3",
   "version": "3.8.12 (default, Oct 12 2021, 13:49:34) \n[GCC 7.5.0]"
  },
  "orig_nbformat": 4,
  "vscode": {
   "interpreter": {
    "hash": "952e1bebe1b278d85469a034aefc1854b777c1b518feedf8249123f6f86cec05"
   }
  }
 },
 "nbformat": 4,
 "nbformat_minor": 2
}
